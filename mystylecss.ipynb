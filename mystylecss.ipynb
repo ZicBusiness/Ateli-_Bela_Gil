{
  "nbformat": 4,
  "nbformat_minor": 0,
  "metadata": {
    "colab": {
      "name": "Untitled1.ipynb",
      "provenance": [],
      "authorship_tag": "ABX9TyNdddpSRg6aTKh6Aax/HjRd",
      "include_colab_link": true
    },
    "kernelspec": {
      "name": "python3",
      "display_name": "Python 3"
    },
    "language_info": {
      "name": "python"
    }
  },
  "cells": [
    {
      "cell_type": "markdown",
      "metadata": {
        "id": "view-in-github",
        "colab_type": "text"
      },
      "source": [
        "<a href=\"https://colab.research.google.com/github/ZicBusiness/Atelie_Bela_Gil/blob/main/mystylecss.ipynb\" target=\"_parent\"><img src=\"https://colab.research.google.com/assets/colab-badge.svg\" alt=\"Open In Colab\"/></a>"
      ]
    },
    {
      "cell_type": "code",
      "execution_count": null,
      "metadata": {
        "id": "IsFVv1xv-ph8"
      },
      "outputs": [],
      "source": [
        "body{\n",
        "\tdisplay:grid;\n",
        "\tplace-items:center center ;\n",
        "\tposition: fixed;\n",
        "        top: 50%;\n",
        "        left: 50%;\n",
        "        margin-right: -50%;\n",
        "        transform: translate(-50%, -50%)\n",
        "\t\n",
        "  }\n",
        "\t\n",
        ".bgcircle{\n",
        "\t\n",
        "\t\n",
        "    height: 1900px;\n",
        "\twidth: 1900px;\n",
        "    background: repeating-conic-gradient(aqua 0deg  10deg ,DeepSkyBlue 10deg 20deg) ;\n",
        "\tborder-radius: 100%;\n",
        "\tanimation: spin 10s infinite linear ;\n",
        "\tposition :fixed;\t\n",
        "\tz-index: -1;\n",
        "    \n",
        "}\n",
        "\n",
        ".bgcircle2 {\n",
        "\t\n",
        "\tz-index:1;\n",
        "\theight: 400px;\n",
        "    width: 400px;\n",
        "    background-image: linear-gradient(to bottom right, deepskyblue, aqua);\n",
        "    border-radius: 100%;\n",
        "\tcolor: white;\n",
        "\ttext-align:center;\n",
        "\tfont-family: ocr;\n",
        "\tfont-size:30px;\n",
        "\tdisplay: flex;\n",
        "    align-items: center;\n",
        "    justify-content: center;\t\n",
        "}\n",
        "\n",
        ".bgcircle3 {\n",
        "\t\n",
        "\tz-index:2;\n",
        "\theight: 800px;\n",
        "    width: 800px;\n",
        "    background-color: deepskyblue;\n",
        "    border-radius: 100%;\n",
        "\tfont-size:30px;\n",
        "\tdisplay: flex;\n",
        "    align-items: center;\n",
        "    justify-content: center;\n",
        "\tposition :absolute;\n",
        "\topacity:30%;\n",
        "}\n",
        "\n",
        "@keyframes spin {\n",
        "  from{transform:rotate(0deg)}\n",
        "\tto{transform:rotate(360deg)}\t\n",
        "}"
      ]
    }
  ]
}